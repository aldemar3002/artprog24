{
 "cells": [
  {
   "cell_type": "markdown",
   "metadata": {},
   "source": [
    "# Estadística descriptiva y visualización\n",
    "\n",
    "## Exploración inicial\n",
    "\n",
    "El dataset es considerado de dominio público y ha sido publicado en el Kraggle y en GitHub, accesible usando las siguientes ligas:\n",
    "\n",
    "* https://www.kaggle.com/mirichoi0218/insurance/home\n",
    "* https://github.com/stedy/Machine-Learning-with-R-datasets\n",
    "\n",
    "Por conveniencia, he copiado el dataset en el directorio del curso. De hecho, a estas alturas, ya debes tener una copia del mismo en tu instancia de Gitpod.\n",
    "\n",
    "Cree un archivo para el ejercicio de hoy en Gitpod y agreguemos la siguiente \"celda\"\n",
    "\n",
    "1. Item 1\n",
    "2. Item 2"
   ]
  },
  {
   "cell_type": "code",
   "execution_count": 2,
   "metadata": {
    "metadata": {}
   },
   "outputs": [
    {
     "data": {
      "text/html": [
       "<div>\n",
       "<style scoped>\n",
       "    .dataframe tbody tr th:only-of-type {\n",
       "        vertical-align: middle;\n",
       "    }\n",
       "\n",
       "    .dataframe tbody tr th {\n",
       "        vertical-align: top;\n",
       "    }\n",
       "\n",
       "    .dataframe thead th {\n",
       "        text-align: right;\n",
       "    }\n",
       "</style>\n",
       "<table border=\"1\" class=\"dataframe\">\n",
       "  <thead>\n",
       "    <tr style=\"text-align: right;\">\n",
       "      <th></th>\n",
       "      <th>age</th>\n",
       "      <th>sex</th>\n",
       "      <th>bmi</th>\n",
       "      <th>children</th>\n",
       "      <th>smoker</th>\n",
       "      <th>region</th>\n",
       "      <th>charges</th>\n",
       "    </tr>\n",
       "  </thead>\n",
       "  <tbody>\n",
       "    <tr>\n",
       "      <th>0</th>\n",
       "      <td>19</td>\n",
       "      <td>female</td>\n",
       "      <td>27.900</td>\n",
       "      <td>0</td>\n",
       "      <td>yes</td>\n",
       "      <td>southwest</td>\n",
       "      <td>16884.92400</td>\n",
       "    </tr>\n",
       "    <tr>\n",
       "      <th>1</th>\n",
       "      <td>18</td>\n",
       "      <td>male</td>\n",
       "      <td>33.770</td>\n",
       "      <td>1</td>\n",
       "      <td>no</td>\n",
       "      <td>southeast</td>\n",
       "      <td>1725.55230</td>\n",
       "    </tr>\n",
       "    <tr>\n",
       "      <th>2</th>\n",
       "      <td>28</td>\n",
       "      <td>male</td>\n",
       "      <td>33.000</td>\n",
       "      <td>3</td>\n",
       "      <td>no</td>\n",
       "      <td>southeast</td>\n",
       "      <td>4449.46200</td>\n",
       "    </tr>\n",
       "    <tr>\n",
       "      <th>3</th>\n",
       "      <td>33</td>\n",
       "      <td>male</td>\n",
       "      <td>22.705</td>\n",
       "      <td>0</td>\n",
       "      <td>no</td>\n",
       "      <td>northwest</td>\n",
       "      <td>21984.47061</td>\n",
       "    </tr>\n",
       "    <tr>\n",
       "      <th>4</th>\n",
       "      <td>32</td>\n",
       "      <td>male</td>\n",
       "      <td>28.880</td>\n",
       "      <td>0</td>\n",
       "      <td>no</td>\n",
       "      <td>northwest</td>\n",
       "      <td>3866.85520</td>\n",
       "    </tr>\n",
       "  </tbody>\n",
       "</table>\n",
       "</div>"
      ],
      "text/plain": [
       "   age     sex     bmi  children smoker     region      charges\n",
       "0   19  female  27.900         0    yes  southwest  16884.92400\n",
       "1   18    male  33.770         1     no  southeast   1725.55230\n",
       "2   28    male  33.000         3     no  southeast   4449.46200\n",
       "3   33    male  22.705         0     no  northwest  21984.47061\n",
       "4   32    male  28.880         0     no  northwest   3866.85520"
      ]
     },
     "execution_count": 2,
     "metadata": {},
     "output_type": "execute_result"
    }
   ],
   "source": [
    "import pandas as pd\n",
    "\n",
    "df = pd.read_csv(\"insurance.csv\")\n",
    "df.head()"
   ]
  },
  {
   "cell_type": "markdown",
   "metadata": {},
   "source": [
    "Lo anterior debe ser ya conocido: nos muestra los primeros 5 renglones del dataset. Recuerda que cada renglón corresponde a una observación, mientras que cada columna corresponde a una variable, usando el vocabulario de estadística.\n",
    "\n",
    "Usemos el siguiente comando para calcular los valores estadísticos de las variables numéricas del dataset."
   ]
  },
  {
   "cell_type": "code",
   "execution_count": 3,
   "metadata": {
    "metadata": {}
   },
   "outputs": [
    {
     "data": {
      "text/html": [
       "<div>\n",
       "<style scoped>\n",
       "    .dataframe tbody tr th:only-of-type {\n",
       "        vertical-align: middle;\n",
       "    }\n",
       "\n",
       "    .dataframe tbody tr th {\n",
       "        vertical-align: top;\n",
       "    }\n",
       "\n",
       "    .dataframe thead th {\n",
       "        text-align: right;\n",
       "    }\n",
       "</style>\n",
       "<table border=\"1\" class=\"dataframe\">\n",
       "  <thead>\n",
       "    <tr style=\"text-align: right;\">\n",
       "      <th></th>\n",
       "      <th>age</th>\n",
       "      <th>bmi</th>\n",
       "      <th>children</th>\n",
       "      <th>charges</th>\n",
       "    </tr>\n",
       "  </thead>\n",
       "  <tbody>\n",
       "    <tr>\n",
       "      <th>count</th>\n",
       "      <td>1338.000000</td>\n",
       "      <td>1338.000000</td>\n",
       "      <td>1338.000000</td>\n",
       "      <td>1338.000000</td>\n",
       "    </tr>\n",
       "    <tr>\n",
       "      <th>mean</th>\n",
       "      <td>39.207025</td>\n",
       "      <td>30.663397</td>\n",
       "      <td>1.094918</td>\n",
       "      <td>13270.422265</td>\n",
       "    </tr>\n",
       "    <tr>\n",
       "      <th>std</th>\n",
       "      <td>14.049960</td>\n",
       "      <td>6.098187</td>\n",
       "      <td>1.205493</td>\n",
       "      <td>12110.011237</td>\n",
       "    </tr>\n",
       "    <tr>\n",
       "      <th>min</th>\n",
       "      <td>18.000000</td>\n",
       "      <td>15.960000</td>\n",
       "      <td>0.000000</td>\n",
       "      <td>1121.873900</td>\n",
       "    </tr>\n",
       "    <tr>\n",
       "      <th>25%</th>\n",
       "      <td>27.000000</td>\n",
       "      <td>26.296250</td>\n",
       "      <td>0.000000</td>\n",
       "      <td>4740.287150</td>\n",
       "    </tr>\n",
       "    <tr>\n",
       "      <th>50%</th>\n",
       "      <td>39.000000</td>\n",
       "      <td>30.400000</td>\n",
       "      <td>1.000000</td>\n",
       "      <td>9382.033000</td>\n",
       "    </tr>\n",
       "    <tr>\n",
       "      <th>75%</th>\n",
       "      <td>51.000000</td>\n",
       "      <td>34.693750</td>\n",
       "      <td>2.000000</td>\n",
       "      <td>16639.912515</td>\n",
       "    </tr>\n",
       "    <tr>\n",
       "      <th>max</th>\n",
       "      <td>64.000000</td>\n",
       "      <td>53.130000</td>\n",
       "      <td>5.000000</td>\n",
       "      <td>63770.428010</td>\n",
       "    </tr>\n",
       "  </tbody>\n",
       "</table>\n",
       "</div>"
      ],
      "text/plain": [
       "               age          bmi     children       charges\n",
       "count  1338.000000  1338.000000  1338.000000   1338.000000\n",
       "mean     39.207025    30.663397     1.094918  13270.422265\n",
       "std      14.049960     6.098187     1.205493  12110.011237\n",
       "min      18.000000    15.960000     0.000000   1121.873900\n",
       "25%      27.000000    26.296250     0.000000   4740.287150\n",
       "50%      39.000000    30.400000     1.000000   9382.033000\n",
       "75%      51.000000    34.693750     2.000000  16639.912515\n",
       "max      64.000000    53.130000     5.000000  63770.428010"
      ]
     },
     "execution_count": 3,
     "metadata": {},
     "output_type": "execute_result"
    }
   ],
   "source": [
    "df.describe()"
   ]
  },
  {
   "cell_type": "markdown",
   "metadata": {},
   "source": [
    "Para reducir la ambigüedad, veamos el significado de cada una de las variables (cf. columnas en la tabla)\n",
    "\n",
    "* `age`: Edad del titular del seguro. Nótese que la edad oscila entre 18 y 64 años, pues en los Estados Unidos el programa Medicare cubre a personas de 65 años en adelante.\n",
    "* `sex`: Sexo del titular del seguro.\n",
    "* `bmi`: Índice de masa corporal (_Body mass index_), que sirve a determinar la condición de peso de una persona (bajo vs. sobre peso, etc.) con respecto a su estatura. El BMI corresponde al peso (en kilogramos) divido por el cuadrado de la estatura (en metros). Un BMI es considerado ideal cuando está en el rango de 18.5 a 24.9.\n",
    "* `children`: Numero de hijos (dependientes) cubiertos por el seguro.\n",
    "* `smoker`: Variable categórica con valores `yes` o `no` indicando si el asegurado fuma regularmente o no.\n",
    "* `region`: Lugar de residencia del beneficiario al interior de los Estados Unidos, dividido en cuatro regiones geográficas, i.e. noreste, sureste, suroeste y noreste. Por supuesto, el dataset usa la palabra en inglés que corresponde.\n",
    "* `charges`: Costos facturados por el seguro médico."
   ]
  },
  {
   "cell_type": "markdown",
   "metadata": {},
   "source": [
    "## Visualización\n",
    "\n",
    "Cómo se dice popularmente: una imagen dice más que mil palabras. Los números calculados en el paso anterior son interesantes pero pueden ser difíciles de interpretar. Para complementar esos números, construiremos algunos diagramas para visualizar la distribución de los valores asociados a algunas de las variables.\n",
    "\n",
    "Sin embargo, antes de hacerlo, tenemos que instalar una librería de visualización llamada __seaborn__. Nota que existen múltiples librerías para este fin, sin embargo, seaborn me parece una de las más sencillas de usar.\n",
    "\n",
    "En su terminal, ejecute el siguiente comando:\n",
    "\n",
    "```\n",
    "pip3 install seaborn\n",
    "```\n",
    "\n",
    "Podrás observar que seaborn agrega algunas otras librerías, de las cuales depende para su buen funcionamiento. El manejar las dependencias es responsabilidad de `pip3`.\n",
    "\n",
    "Ahora, debemos importar la librería en nuestro programa. Agreguemos las siguientes lineas:"
   ]
  },
  {
   "cell_type": "code",
   "execution_count": null,
   "metadata": {},
   "outputs": [],
   "source": [
    "import seaborn as sns\n",
    "\n",
    "sns.set_theme(style=\"whitegrid\")\n",
    "\n",
    "# sns.set_theme(style=\"white\")"
   ]
  },
  {
   "cell_type": "markdown",
   "metadata": {},
   "source": [
    "### Exploración de variables categóricas\n",
    "\n",
    "Para comenzar, construyamos un diagrama de barra con la distribución de los contratos de seguro a través de las cuatro regiones geográficas incluidas en el dataset. Para eso, ejecuta la siguiente celda:"
   ]
  },
  {
   "cell_type": "code",
   "execution_count": null,
   "metadata": {},
   "outputs": [],
   "source": [
    "sns.displot(x=\"region\", data=df)"
   ]
  },
  {
   "cell_type": "markdown",
   "metadata": {},
   "source": [
    "Como notarás, sólo debemos especificar la variable que aparecerá en el eje X. Seaborn infiere que queremos contar la frecuencia de observaciones, divididas por región. El segundo parámetro, nos permite indicar cual es el dataframe que contiene los datos que deberán ser usados en la generación del gráfico.\n",
    "\n",
    "Probemos ahora la siguiente línea:"
   ]
  },
  {
   "cell_type": "code",
   "execution_count": null,
   "metadata": {},
   "outputs": [],
   "source": [
    "sns.displot(x=\"region\", hue=\"sex\", multiple=\"stack\", data=df)"
   ]
  },
  {
   "cell_type": "markdown",
   "metadata": {},
   "source": [
    "En la línea anterior hemos particionado los datos ahora con la variable `sex`. El diagrama de barras muestra, apilados, la cuenta de observaciones por sexo y por región."
   ]
  },
  {
   "cell_type": "markdown",
   "metadata": {},
   "source": [
    "### Exploración de variables numéricas\n",
    "\n",
    "Ahora pasemos a demostrar como podemos visualizar las variables discretas. Para esto, utilizaremos la variable `age`. En este caso, es cierto que el rango de valores de `age` es finito, pero el tener alrededor de 50 barras hace un diagrama difícil de interpretar. Por esta razón usaremos un histograma. Ejecute la siguiente celda que muestra como generarlo con `seaborn`."
   ]
  },
  {
   "cell_type": "code",
   "execution_count": null,
   "metadata": {},
   "outputs": [],
   "source": [
    "sns.displot(x=\"age\", data=df)"
   ]
  },
  {
   "cell_type": "markdown",
   "metadata": {},
   "source": [
    "Interesante, ¿no es cierto? El código es el mismo. `seaborn` nos propone, de manera automática, un número de barras (o \"bins\" en inglés). De hecho, en este caso, es posible cambiar el nombre de la función `displot` a `histplot`.\n",
    "\n",
    "En este caso, nos es ventajoso el usar `histplot`. Pruebe el siguiente snippet. ¿Qué es lo que estamos haciendo?"
   ]
  },
  {
   "cell_type": "code",
   "execution_count": null,
   "metadata": {},
   "outputs": [],
   "source": [
    "g = sns.histplot(data=df, x=\"age\", multiple=\"stack\", hue=\"sex\")\n",
    "for q in df.age.quantile([.25, .5, .75]):\n",
    "    g.axvline(q, linestyle=\":\")\n",
    "    g.text(q, 150, q)"
   ]
  },
  {
   "cell_type": "markdown",
   "metadata": {},
   "source": [
    "### Análisis de correlación usando \"heatmaps\" y \"scatterplots\"\n",
    "\n",
    "Métodos estadísticos, tales como el coeficiente de correlación de Pearson nos permiten caracterizar la correlación lineal entre dos variables numéricas. La biblioteca `pandas` ofrece una función para calcularlo. Probemos con nuestro dataset."
   ]
  },
  {
   "cell_type": "code",
   "execution_count": null,
   "metadata": {},
   "outputs": [],
   "source": [
    "df.corr()"
   ]
  },
  {
   "cell_type": "markdown",
   "metadata": {},
   "source": [
    "La visualización referida como _heatmap_ nos ofrece una forma para visualizar de manera conveniente la tabla de correlación anterior. Afortunadamente, `seaborn` nos ofrece un método muy sencillo para construir un heatmap:"
   ]
  },
  {
   "cell_type": "code",
   "execution_count": null,
   "metadata": {},
   "outputs": [],
   "source": [
    "sns.heatmap(df.corr(), annot=True)"
   ]
  },
  {
   "cell_type": "markdown",
   "metadata": {},
   "source": [
    "Podemos ver, sin embargo, que no existe una correlación lineal aparente entre pares de variables. Para corroborar esto, les propongo que construyamos un diagrama de dispersión (también llamado \"scatterplot\")."
   ]
  },
  {
   "cell_type": "code",
   "execution_count": null,
   "metadata": {},
   "outputs": [],
   "source": [
    "sns.scatterplot(data=df, x=\"bmi\", y=\"charges\")"
   ]
  },
  {
   "cell_type": "markdown",
   "metadata": {},
   "source": [
    "Prueba el siguiente scatterplot y discute con tus compañeros que concluyes de la visualización"
   ]
  },
  {
   "cell_type": "code",
   "execution_count": null,
   "metadata": {},
   "outputs": [],
   "source": [
    "sns.scatterplot(data=df, x=\"bmi\", y=\"charges\", hue=\"smoker\")"
   ]
  },
  {
   "cell_type": "markdown",
   "metadata": {},
   "source": [
    "# Algunas transformaciones comunes\n",
    "\n",
    "## Categorización de variables numéricas\n",
    "\n",
    "Del diagrama anterior, podemos concluir que las edades de los beneficiarios parecen estar distribuidas casi uniformemente.\n",
    "\n",
    "En ocasiones, es interesante cambiar a variables categóricas las variables numéricas, usando intervalos. Con el ejemplo que estamos usando, parece razonable el categorizar a los beneficiarios usando los siguientes intervalos:\n",
    "\n",
    "* `Adolescente`: Edades en el intervalo (17, 20),\n",
    "* `Joven adulto`: Edades en el intervalo [20, 35),\n",
    "* `Adulto`: Edades en el intervalo [35, 50), y\n",
    "* `Adulto mayor`: Edades en el intervalo [50, 64].\n",
    "\n",
    "Como decía, la razón para categorizar a los beneficiarios podría permitir asociarlos, por ejemplo, con una estabilidad económica típica de una edad. Para lograr la \"discretización\" descrita anteriormente, podemos usar la noción de corte, i.e. pandas cut `pd.cut()`, como se muestra en la celda siguiente. Ejecútela y analice el resultado."
   ]
  },
  {
   "cell_type": "code",
   "execution_count": null,
   "metadata": {},
   "outputs": [],
   "source": [
    "pd.cut(df.age, [17,20,35,50,64], labels=['Adolecente', 'Joven adulto', 'Adulto', 'Adulto mayor'])"
   ]
  },
  {
   "cell_type": "markdown",
   "metadata": {},
   "source": [
    "Como se puede observar, el comando anterior nos permitió asignar a cada observación una categoria dependiendo del intervalo de edad al que pertenece el beneficiario del seguro. Lo que vamos a hacer ahora es agregar esa categoría como una columna adicional a nuestro dataset. Para eso, ejecutemos la siguiente celda:"
   ]
  },
  {
   "cell_type": "code",
   "execution_count": null,
   "metadata": {},
   "outputs": [],
   "source": [
    "df['edad_cat'] = pd.cut(df.age, [17,20,35,50,64], labels=['Adolecente', 'Joven adulto', 'Adulto', 'Adulto mayor'])\n",
    "df.head()"
   ]
  },
  {
   "cell_type": "markdown",
   "metadata": {},
   "source": [
    "Como `edad_cat` aparece ya como otra variable en el dataset, es posible usarla directamente en la creación de diagramas."
   ]
  },
  {
   "cell_type": "markdown",
   "metadata": {},
   "source": [
    "### Transformación de variables categóricas en numéricas\n",
    "\n",
    "Aunque parezca extraño, en ocasiones tendremos necesidad de transformar una variable categórica en numérica. En nuestro ejemplo, este tipo de transformación será útil para agregar las variables categóricas en el cálculo de el coeficiente de correlación y su correspondiente heapmap.\n",
    "\n",
    "Para ilustrar el proceso, transformemos la variable `sex` en nuestro dataset. Para eso, ejecute la siguiente celda:"
   ]
  },
  {
   "cell_type": "code",
   "execution_count": null,
   "metadata": {},
   "outputs": [],
   "source": [
    "df['sex_num'] = df.sex.astype('category') # Agrega una columna con información de tipo `category`\n",
    "df['sex_num'].cat.categories = [1, 2]     # Las categorias ['female', 'male'] son reemplazadas por los valores [1, 2] resp.\n",
    "df.head()"
   ]
  },
  {
   "cell_type": "markdown",
   "metadata": {},
   "source": [
    "Después de lo anterior, `sex_num` se tomaría en cuenta para el cálculo del coeficiente de correlación."
   ]
  },
  {
   "cell_type": "markdown",
   "metadata": {},
   "source": [
    "### Eliminación de variables\n",
    "\n",
    "En ocasiones tendrá necesidad de eliminar columnas, e.g. aquellas que vamos agregando durante el análisis. Para ilustrar la idea, ejecute la siguiente celda:"
   ]
  },
  {
   "cell_type": "code",
   "execution_count": null,
   "metadata": {},
   "outputs": [],
   "source": [
    "df_nuevo = df.drop(columns=['sex_num'])\n",
    "df_nuevo.head()"
   ]
  },
  {
   "cell_type": "markdown",
   "metadata": {},
   "source": [
    "Es importante notar que `df` se mantiene con el mismo valor y es solo en `df_nuevo` que tendremos una copia del dataset sin las columnas que hayamos eliminado."
   ]
  },
  {
   "cell_type": "markdown",
   "metadata": {},
   "source": [
    "### Particionamiento del dataset\n",
    "\n",
    "En ocasiones, nos interesa enfocarnos en una parte del dataset de acuerdo a un valor categórico. Por ejemplo, podemos particionar nuestro dataset en dos, uno con los beneficiarios masculinos y el otro con los beneficiarios femeninos. Para esto, podemos usar la siguientes instrucciones:"
   ]
  },
  {
   "cell_type": "code",
   "execution_count": null,
   "metadata": {},
   "outputs": [],
   "source": [
    "hombres = df[df.sex=='male']\n",
    "mujeres = df[df.sex=='female']\n",
    "\n",
    "mujeres.head()"
   ]
  },
  {
   "cell_type": "markdown",
   "metadata": {},
   "source": [
    "### Cálculo de estadísticos sobre grupos\n",
    "\n",
    "Es también posible agrupar los renglones con respecto al valor de una variable categórica. Esto lo hicimos implícitamente cuando estabamos construyendo los diagramas de barras, determinando el número de beneficiarios por cada región. Podemos hacer algo similar con el siguiente código python:"
   ]
  },
  {
   "cell_type": "code",
   "execution_count": null,
   "metadata": {},
   "outputs": [],
   "source": [
    "df.groupby('region')[['region']].count()"
   ]
  },
  {
   "cell_type": "markdown",
   "metadata": {},
   "source": [
    "Usando este mismo estilo, podemos aplicar funciones a los valores agrupados por cada columna. Ejecute la siguiente celda y analice el resultado:"
   ]
  },
  {
   "cell_type": "code",
   "execution_count": null,
   "metadata": {},
   "outputs": [],
   "source": [
    "df.groupby('region').agg({'age': 'mean', 'bmi': ['min', 'max', 'mean'], 'charges': 'mean'})"
   ]
  },
  {
   "cell_type": "markdown",
   "metadata": {},
   "source": [
    "En algunas ocasiones, usted se verá con la necesidad de calcular la frecuencia relativa de alguna variable (e.g. porcentajes). Para esto, les propongo usar el siguiente método:"
   ]
  },
  {
   "cell_type": "code",
   "execution_count": null,
   "metadata": {},
   "outputs": [],
   "source": [
    "numrenglones = df.region.size\n",
    "df.groupby('region')['region'].count()/numrenglones"
   ]
  },
  {
   "cell_type": "markdown",
   "metadata": {},
   "source": [
    "Profundicemos nuestro análisis"
   ]
  },
  {
   "cell_type": "code",
   "execution_count": null,
   "metadata": {},
   "outputs": [],
   "source": [
    "smokers = df[df['smoker'] == 'yes']\n",
    "smokers.head()"
   ]
  },
  {
   "cell_type": "code",
   "execution_count": null,
   "metadata": {},
   "outputs": [],
   "source": [
    "sns.heatmap(smokers.corr(), annot=True)"
   ]
  },
  {
   "cell_type": "code",
   "execution_count": null,
   "metadata": {},
   "outputs": [],
   "source": [
    "sns.scatterplot(data=smokers, x=\"bmi\", y=\"charges\")"
   ]
  },
  {
   "cell_type": "code",
   "execution_count": null,
   "metadata": {},
   "outputs": [],
   "source": [
    "sns.boxplot(data=smokers, x=\"region\", y=\"charges\")"
   ]
  },
  {
   "cell_type": "code",
   "execution_count": null,
   "metadata": {},
   "outputs": [],
   "source": [
    "pd.pivot(df, columns=\"region\")"
   ]
  },
  {
   "cell_type": "code",
   "execution_count": null,
   "metadata": {},
   "outputs": [],
   "source": [
    "df = pd.DataFrame({'A': {0: 'a', 1: 'b', 2: 'c'},\n",
    "                   'B': {0: 1, 1: 3, 2: 5},\n",
    "                   'C': {0: 2, 1: 4, 2: 6}})\n",
    "df"
   ]
  },
  {
   "cell_type": "code",
   "execution_count": null,
   "metadata": {},
   "outputs": [],
   "source": [
    "pd.melt(df, value_vars=['A', 'B'], ignore_index=False)"
   ]
  }
 ],
 "metadata": {
  "kernelspec": {
   "display_name": "Python 3 (ipykernel)",
   "language": "python",
   "name": "python3"
  },
  "language_info": {
   "codemirror_mode": {
    "name": "ipython",
    "version": 3
   },
   "file_extension": ".py",
   "mimetype": "text/x-python",
   "name": "python",
   "nbconvert_exporter": "python",
   "pygments_lexer": "ipython3",
   "version": "3.12.3"
  }
 },
 "nbformat": 4,
 "nbformat_minor": 4
}
